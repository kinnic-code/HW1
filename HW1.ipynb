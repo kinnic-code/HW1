{
 "cells": [
  {
   "cell_type": "markdown",
   "metadata": {},
   "source": [
    "ДЗ 1"
   ]
  },
  {
   "cell_type": "code",
   "execution_count": 1,
   "metadata": {},
   "outputs": [
    {
     "name": "stdout",
     "output_type": "stream",
     "text": [
      "True\n"
     ]
    }
   ],
   "source": [
    "long_phrase = \"Насколько проще было бы писать программы, если бы не заказчики\"\n",
    "short_phrase = \"640Кб должно хватить для любых задач. Билл Гейтс (по легенде)\"\n",
    "if len(long_phrase) > len(short_phrase): \n",
    "    print (\"True\")"
   ]
  },
  {
   "cell_type": "markdown",
   "metadata": {},
   "source": [
    "ДЗ 2"
   ]
  },
  {
   "cell_type": "code",
   "execution_count": 2,
   "metadata": {},
   "outputs": [
    {
     "name": "stdout",
     "output_type": "stream",
     "text": [
      "Объем файла равен 590 Мбайт\n"
     ]
    }
   ],
   "source": [
    "volume_bytes=2048590\n",
    "volume_Mb=volume_bytes%1024\n",
    "print (\"Объем файла равен\",volume_Mb,\"Мбайт\")\n"
   ]
  },
  {
   "cell_type": "markdown",
   "metadata": {},
   "source": [
    "ДЗ 4 "
   ]
  },
  {
   "cell_type": "code",
   "execution_count": 2,
   "metadata": {},
   "outputs": [
    {
     "name": "stdout",
     "output_type": "stream",
     "text": [
      "Введите заработанную плату в месяц 100\n",
      "Введите сколько процентов уходит на ипотеку 1\n",
      "Введите сколько процентов уходит на жизнь 1\n",
      "Введите количество премий за год 1\n",
      "На ипотеку было потрачено: 12.0 рублей\n",
      "Было накоплено: 1226.0 рублей\n"
     ]
    }
   ],
   "source": [
    "salary = int(input('Введите заработанную плату в месяц '))\n",
    "morgage_payments = int(input('Введите сколько процентов уходит на ипотеку '))\n",
    "life_expenses = int(input('Введите сколько процентов уходит на жизнь '))\n",
    "bonus = int(input('Введите количество премий за год '))\n",
    "\n",
    "annual_salary = salary * 12\n",
    "\n",
    "Spent_for_morgage = (annual_salary * morgage_payments) / 100\n",
    "Spent_for_life_expenses = annual_salary * life_expenses/ 100\n",
    "Saved_for_retire = annual_salary - Spent_for_morgage - Spent_for_life_expenses + (salary * bonus) / 2\n",
    "\n",
    "print (\"На ипотеку было потрачено:\", Spent_for_morgage,\"рублей\")\n",
    "print (\"Было накоплено:\", Saved_for_retire,\"рублей\")"
   ]
  },
  {
   "cell_type": "markdown",
   "metadata": {},
   "source": [
    "ДЗ 3"
   ]
  },
  {
   "cell_type": "code",
   "execution_count": 1,
   "metadata": {},
   "outputs": [
    {
     "name": "stdout",
     "output_type": "stream",
     "text": [
      "Введите месяц рождения сентябрь\n",
      "Введите день месяца рождения 3\n",
      "дева\n",
      "Конец программы\n"
     ]
    }
   ],
   "source": [
    "month = input('Введите месяц рождения ')\n",
    "date = int(input('Введите день месяца рождения '))\n",
    "\n",
    "if month == \"январь\" and date <=19:    \n",
    "    print('козерог')\n",
    "    \n",
    "elif month == \"январь\" and date >=20:     \n",
    "    print('водолей')\n",
    "elif month == \"февраль\" and date <=18:     \n",
    "    print('водолей')    \n",
    "    \n",
    "elif month == \"февраль\" and date >=19:     \n",
    "    print('рыбы')\n",
    "elif month == \"март\" and date <=20:     \n",
    "    print('рыбы')  \n",
    "    \n",
    "elif month == \"март\" and date >=21:     \n",
    "    print('овен')\n",
    "elif month == \"апрель\" and date <=19:     \n",
    "    print('овен')      \n",
    "\n",
    "elif month == \"апрель\" and date >=20:     \n",
    "    print('телец')\n",
    "elif month == \"май\" and date <=20:     \n",
    "    print('телец')      \n",
    "\n",
    "elif month == \"май\" and date >=21:     \n",
    "    print('близнецы')\n",
    "elif month == \"июнь\" and date <=20:     \n",
    "    print('близнецы')\n",
    "\n",
    "elif month == \"июнь\" and date >=21:     \n",
    "    print('рак')\n",
    "elif month == \"июль\" and date <=22:     \n",
    "    print('рак')\n",
    "\n",
    "elif month == \"июль\" and date >=23:     \n",
    "    print('лев')\n",
    "elif month == \"август\" and date <=22:     \n",
    "    print('лев')\n",
    "    \n",
    "elif month == \"август\" and date >=23:     \n",
    "    print('дева')\n",
    "elif month == \"сентябрь\" and date <=22:     \n",
    "    print('дева')\n",
    "\n",
    "elif month == \"сентябрь\" and date >=23:     \n",
    "    print('весы')\n",
    "elif month == \"октябрь\" and date <=22:     \n",
    "    print('весы')\n",
    "\n",
    "elif month == \"октябрь\" and date >=23:     \n",
    "    print('скорпион')\n",
    "elif month == \"ноябрь\" and date <=21:     \n",
    "    print('скорпион')    \n",
    "    \n",
    "elif month == \"ноябрь\" and date >=22:     \n",
    "    print('стрелец')\n",
    "elif month == \"декабрь\" and date <=21:     \n",
    "    print('стрелец')\n",
    "\n",
    "else: \n",
    "    print('козерог')\n",
    "    \n",
    "print('Конец программы')\n"
   ]
  }
 ],
 "metadata": {
  "kernelspec": {
   "display_name": "Python 3",
   "language": "python",
   "name": "python3"
  },
  "language_info": {
   "codemirror_mode": {
    "name": "ipython",
    "version": 3
   },
   "file_extension": ".py",
   "mimetype": "text/x-python",
   "name": "python",
   "nbconvert_exporter": "python",
   "pygments_lexer": "ipython3",
   "version": "3.7.4"
  }
 },
 "nbformat": 4,
 "nbformat_minor": 2
}
